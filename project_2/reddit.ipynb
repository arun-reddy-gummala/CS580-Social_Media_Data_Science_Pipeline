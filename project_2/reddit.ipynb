{
 "cells": [
  {
   "cell_type": "code",
   "execution_count": 1,
   "metadata": {},
   "outputs": [
    {
     "name": "stdout",
     "output_type": "stream",
     "text": [
      "Connected successfully!!!\n"
     ]
    }
   ],
   "source": [
    "from pymongo import MongoClient\n",
    "import pandas as pd\n",
    "from pprint import pprint\n",
    "import sys\n",
    "myclient = MongoClient(\"mongodb://localhost:27017/\")  \n",
    "try: \n",
    "    print(\"Connected successfully!!!\") \n",
    "except:   \n",
    "    print(\"Could not connect to MongoDB\") "
   ]
  },
  {
   "cell_type": "code",
   "execution_count": null,
   "metadata": {},
   "outputs": [],
   "source": [
    "db = myclient[\"newtest\"]\n",
    "Collection = db['test'] "
   ]
  },
  {
   "cell_type": "code",
   "execution_count": null,
   "metadata": {},
   "outputs": [],
   "source": [
    "import pandas as pd\n",
    "import numpy as np\n",
    "import re\n",
    "import string\n",
    "from nltk.corpus import stopwords\n",
    "from nltk.tokenize import word_tokenize\n",
    "from nltk.stem import PorterStemmer\n",
    "from nltk.stem import WordNetLemmatizer\n",
    "stop_words = set(stopwords.words('english'))"
   ]
  },
  {
   "cell_type": "code",
   "execution_count": null,
   "metadata": {},
   "outputs": [],
   "source": [
    "def preprocess_dat_text(dat):\n",
    "    dat.lower()\n",
    "    # Remove urls\n",
    "    dat = re.sub(r\"http\\S+|www\\S+|https\\S+\", '', dat, flags=re.MULTILINE)\n",
    "    dat = re.sub(r'\\@\\w+|\\#','', dat)\n",
    "    # Remove punctuations\n",
    "    dat = dat.translate(str.maketrans('', '', string.punctuation))\n",
    "    # Remove stopwords\n",
    "    dat_tokens = word_tokenize(dat)\n",
    "    filtered_words = [w for w in dat_tokens if not w in stop_words]\n",
    "    #ps = PorterStemmer()\n",
    "    #stemmed_words = [ps.stem(w) for w in filtered_words]\n",
    "    #lemmatizer = WordNetLemmatizer()\n",
    "    #lemma_words = [lemmatizer.lemmatize(w, pos='a') for w in stemmed_words]\n",
    "    return \" \".join(filtered_words)"
   ]
  },
  {
   "cell_type": "code",
   "execution_count": null,
   "metadata": {},
   "outputs": [],
   "source": [
    "import pandas as pd\n",
    "data = pd.read_csv(\"manualTrain - Sheet1.csv\")\n",
    "data1 = data[:102]\n",
    "data2 = data[204:399]\n",
    "data3 = data[879:1021]\n",
    "data1 =  data1.append(data2,ignore_index=True)\n",
    "data1 = data1.append(data3,ignore_index=True)"
   ]
  },
  {
   "cell_type": "code",
   "execution_count": null,
   "metadata": {},
   "outputs": [],
   "source": [
    "for j in range(len(data1['title'])):\n",
    "    data1['title'][j] = preprocess_dat_text(data1['title'][j])"
   ]
  },
  {
   "cell_type": "code",
   "execution_count": null,
   "metadata": {},
   "outputs": [],
   "source": [
    "train = []\n",
    "for i in range(438):\n",
    "    a = data1['title'][i]\n",
    "    b = data1['polarity'][i]\n",
    "    tup = (a,b)\n",
    "    train.append(tup)\n",
    "train"
   ]
  },
  {
   "cell_type": "code",
   "execution_count": null,
   "metadata": {},
   "outputs": [],
   "source": [
    "from textblob import TextBlob \n",
    "from textblob.classifiers import NaiveBayesClassifier \n",
    "cl = NaiveBayesClassifier(train) \n",
    "blob = TextBlob(\"COVID case in NY rise\", classifier=cl) \n",
    "for s in blob.sentences: \n",
    "     print(s) \n",
    "     print(s.classify())"
   ]
  },
  {
   "cell_type": "code",
   "execution_count": null,
   "metadata": {},
   "outputs": [],
   "source": [
    "from textblob import TextBlob\n",
    "testimonial = TextBlob(\"Coronavirus: Macron declares second national lockdown in France\")\n",
    "testimonial.sentiment.polarity"
   ]
  },
  {
   "cell_type": "code",
   "execution_count": null,
   "metadata": {},
   "outputs": [],
   "source": [
    "scores2 = []\n",
    "final = []\n",
    "for sent in get_results:\n",
    "    vs2 = {}\n",
    "    testimonial = TextBlob(sent['data']['title'], classifier=cl)\n",
    "    vs2['title'] = sent['data']['title']\n",
    "    m = testimonial.classify()\n",
    "    vs2['polarity'] = m\n",
    "    vs2['timestamp'] = sent['time']\n",
    "    final.append(vs2)"
   ]
  },
  {
   "cell_type": "code",
   "execution_count": null,
   "metadata": {},
   "outputs": [],
   "source": [
    "#all days pre processed everything\n",
    "def get_clean(get_results):\n",
    "    for j in range(len(data1['title'])):\n",
    "        data1['title'][j] = preprocess_tweet_text(data1['title'][j])\n",
    "def get_curs(get_results):\n",
    "    final = []\n",
    "    for sent in get_results:\n",
    "        vs2 = {}\n",
    "        testimonial = TextBlob(preprocess_tweet_text(sent['data']['title']), classifier=cl)\n",
    "        vs2['title'] = sent['data']['title']\n",
    "        m = testimonial.classify()\n",
    "        vs2['polarity'] = m\n",
    "        vs2['timestamp'] = sent['time']\n",
    "        final.append(vs2)\n",
    "    df = pd.DataFrame.from_dict(final)\n",
    "    return df\n",
    "\n",
    "from collections import Counter\n",
    "data = {'neg':[0], \n",
    "        'neu':[0], 'pos':[0], 'timestamp' : [0]}\n",
    "finn = pd.DataFrame(data)\n",
    "posts = pd.DataFrame(columns = ['title', 'timestamp', 'polarity']) \n",
    "x = range(1,8)\n",
    "for i in x:\n",
    "    fin = \"0\" + str(i) + \"-Nov-2020, \"\n",
    "    get_results = Collection.find({'time' : {'$regex': fin}}).limit(100)\n",
    "    scores2 = []\n",
    "    df = get_curs(get_results)\n",
    "    m = df['timestamp'].iloc[-1]\n",
    "    n = int(m[14])\n",
    "    for j in range(n,n+7):\n",
    "        fin = m[:14] + str(j)\n",
    "        get_results = Collection.find({'time' : {'$regex': fin}}).limit(100)\n",
    "        df = df.append(get_curs(get_results),ignore_index=True)\n",
    "    df1 = df['polarity']\n",
    "    a = df1.values.tolist()\n",
    "    one = Counter(a)['neg']\n",
    "    two = Counter(a)['neu']\n",
    "    three = Counter(a)['pos']\n",
    "    data = {'neg':one, \n",
    "    'neu':two, 'pos':three , 'timestamp': fin[0:2]+\"-nov\"}\n",
    "    print(data)\n",
    "    finn = finn.append(data, ignore_index=True)\n",
    "    df['timestamp'] = fin[0:2]+\"-nov\"\n",
    "    posts = posts.append(df, ignore_index=True)\n",
    "    del df1\n",
    "    del df"
   ]
  },
  {
   "cell_type": "code",
   "execution_count": null,
   "metadata": {},
   "outputs": [],
   "source": [
    "#just for one day\n",
    "def get_clean(get_results):\n",
    "    for j in range(len(data1['title'])):\n",
    "        data1['title'][j] = preprocess_tweet_text(data1['title'][j])\n",
    "def get_curs(get_results):\n",
    "    final = []\n",
    "    for sent in get_results:\n",
    "        vs2 = {}\n",
    "        testimonial = TextBlob(preprocess_tweet_text(sent['data']['title']), classifier=cl)\n",
    "        vs2['title'] = sent['data']['title']\n",
    "        m = testimonial.classify()\n",
    "        vs2['polarity'] = m\n",
    "        vs2['timestamp'] = sent['time']\n",
    "        final.append(vs2)\n",
    "    df = pd.DataFrame.from_dict(final)\n",
    "    return df\n",
    "\n",
    "from collections import Counter\n",
    "data = {'neg':[0], \n",
    "        'neu':[0], 'pos':[0], 'timestamp' : [0]}\n",
    "finn = pd.DataFrame(data)\n",
    "x = range(1,8)\n",
    "for i in x:\n",
    "    fin = \"0\" + str(i) + \"-Nov-2020, \"\n",
    "    get_results = Collection.find({'time' : {'$regex': fin}}).limit(100)\n",
    "    scores2 = []\n",
    "    df = get_curs(get_results)\n",
    "    m = df['timestamp'].iloc[-1]\n",
    "    n = int(m[14])\n",
    "    for j in range(n,n+12):\n",
    "        fin = m[:14] + str(j)\n",
    "        get_results = Collection.find({'time' : {'$regex': fin}}).limit(100)\n",
    "        df = df.append(get_curs(get_results),ignore_index=True)\n",
    "    df1 = df['polarity']\n",
    "    a = df1.values.tolist()\n",
    "    one = Counter(a)['neg']\n",
    "    two = Counter(a)['neu']\n",
    "    three = Counter(a)['pos']\n",
    "    data = {'neg':one, \n",
    "    'neu':two, 'pos':three , 'timestamp': fin[0:2]+\"-nov\"}\n",
    "    print(data)\n",
    "    finn = finn.append(data, ignore_index=True)\n",
    "    #del df1\n",
    "    #del df\n",
    "    break"
   ]
  },
  {
   "cell_type": "code",
   "execution_count": null,
   "metadata": {},
   "outputs": [],
   "source": [
    "#without stopword removal and lemmization\n",
    "def get_curs(get_results):\n",
    "    final = []\n",
    "    for sent in get_results:\n",
    "        vs2 = {}\n",
    "        testimonial = TextBlob(sent['data']['title'], classifier=cl)\n",
    "        #vs2['title'] = sent['data']['title']\n",
    "        m = testimonial.classify()\n",
    "        vs2['polarity'] = m\n",
    "        vs2['timestamp'] = sent['time']\n",
    "        final.append(vs2)\n",
    "    df = pd.DataFrame.from_dict(final)\n",
    "    return df\n",
    "\n",
    "from collections import Counter\n",
    "data = {'neg':[0], \n",
    "        'neu':[0], 'pos':[0], 'timestamp' : [0]}\n",
    "finn = pd.DataFrame(data)\n",
    "x = range(1,8)\n",
    "for i in x:\n",
    "    fin = \"0\" + str(i) + \"-Nov-2020, \"\n",
    "    get_results = Collection.find({'time' : {'$regex': fin}}).limit(100)\n",
    "    scores2 = []\n",
    "    df = get_curs(get_results)\n",
    "    m = df['timestamp'].iloc[-1]\n",
    "    n = int(m[14])\n",
    "    for j in range(n,n+7):\n",
    "        fin = m[:14] + str(j)\n",
    "        get_results = Collection.find({'time' : {'$regex': fin}}).limit(100)\n",
    "        df = df.append(get_curs(get_results),ignore_index=True)\n",
    "    df1 = df['polarity']\n",
    "    a = df1.values.tolist()\n",
    "    one = Counter(a)['neg']\n",
    "    two = Counter(a)['neu']\n",
    "    three = Counter(a)['pos']\n",
    "    data = {'neg':one, \n",
    "    'neu':two, 'pos':three , 'timestamp': fin[0:2]+\"-nov\"}\n",
    "    print(data)\n",
    "    finn = finn.append(data, ignore_index=True)\n",
    "    del df1\n",
    "    del df"
   ]
  },
  {
   "cell_type": "code",
   "execution_count": null,
   "metadata": {},
   "outputs": [],
   "source": [
    "posts"
   ]
  },
  {
   "cell_type": "code",
   "execution_count": null,
   "metadata": {},
   "outputs": [],
   "source": [
    "from matplotlib.colors import ListedColormap\n",
    "\n",
    "\n",
    "cmap = ListedColormap([ '#e50000', '#0343df','#008000'])\n",
    "\n",
    "ax = bigdata.plot.bar(x='timestamp', colormap=cmap)\n",
    "\n",
    "ax.set_xlabel(None)\n",
    "ax.set_ylabel('# of posts')\n",
    "ax.set_title('Analysis based on a day')\n",
    "\n",
    "plt.show()"
   ]
  }
 ],
 "metadata": {
  "kernelspec": {
   "display_name": "Python 3",
   "language": "python",
   "name": "python3"
  },
  "language_info": {
   "codemirror_mode": {
    "name": "ipython",
    "version": 3
   },
   "file_extension": ".py",
   "mimetype": "text/x-python",
   "name": "python",
   "nbconvert_exporter": "python",
   "pygments_lexer": "ipython3",
   "version": "3.7.8"
  }
 },
 "nbformat": 4,
 "nbformat_minor": 4
}
